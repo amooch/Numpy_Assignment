{
 "cells": [
  {
   "cell_type": "code",
   "execution_count": 1,
   "id": "99277f9d",
   "metadata": {},
   "outputs": [],
   "source": [
    "import numpy as np"
   ]
  },
  {
   "cell_type": "code",
   "execution_count": 2,
   "id": "cc6311d3",
   "metadata": {},
   "outputs": [],
   "source": [
    "heights = np.array([160, 155, 172, 165, 180, 158, 175, 163, 171, 168])"
   ]
  },
  {
   "cell_type": "code",
   "execution_count": 3,
   "id": "42da4e2b",
   "metadata": {},
   "outputs": [],
   "source": [
    "mean_heights = np.mean(heights)"
   ]
  },
  {
   "cell_type": "code",
   "execution_count": 4,
   "id": "0b654c76",
   "metadata": {},
   "outputs": [],
   "source": [
    "median_heights = np.median(heights)"
   ]
  },
  {
   "cell_type": "code",
   "execution_count": 5,
   "id": "cbaaa61b",
   "metadata": {},
   "outputs": [],
   "source": [
    "std_dev_heights = np.std(heights)"
   ]
  },
  {
   "cell_type": "code",
   "execution_count": 6,
   "id": "61f4762d",
   "metadata": {},
   "outputs": [
    {
     "name": "stdout",
     "output_type": "stream",
     "text": [
      "Mean: 166.70, Median: 166.5, Standard Deviation: 7.54\n"
     ]
    }
   ],
   "source": [
    "print(f\"Mean: {mean_heights:.2f}, Median: {median_heights}, Standard Deviation: {std_dev_heights:.2f}\")"
   ]
  },
  {
   "cell_type": "code",
   "execution_count": 7,
   "id": "8652f62b",
   "metadata": {},
   "outputs": [],
   "source": [
    "normalized_heights = (heights - mean_heights) / std_dev_heights"
   ]
  },
  {
   "cell_type": "code",
   "execution_count": 8,
   "id": "ca7b5b87",
   "metadata": {},
   "outputs": [
    {
     "name": "stdout",
     "output_type": "stream",
     "text": [
      "Normalized Heights: [-0.88891945 -1.55229217  0.70317509 -0.22554673  1.76457144 -1.15426854\n",
      "  1.10119872 -0.49089581  0.57050054  0.17247691]\n"
     ]
    }
   ],
   "source": [
    "print(\"Normalized Heights:\", normalized_heights)"
   ]
  },
  {
   "cell_type": "code",
   "execution_count": 9,
   "id": "d464f96e",
   "metadata": {},
   "outputs": [],
   "source": [
    "tallest_student_idx = np.argmax(heights)"
   ]
  },
  {
   "cell_type": "code",
   "execution_count": 10,
   "id": "23c64fa5",
   "metadata": {},
   "outputs": [],
   "source": [
    "shortest_student_idx = np.argmin(heights)"
   ]
  },
  {
   "cell_type": "code",
   "execution_count": 11,
   "id": "4294774d",
   "metadata": {},
   "outputs": [
    {
     "name": "stdout",
     "output_type": "stream",
     "text": [
      "Tallest student index: 4, Shortest student index: 1\n"
     ]
    }
   ],
   "source": [
    "print(f\"Tallest student index: {tallest_student_idx}, Shortest student index: {shortest_student_idx}\")"
   ]
  },
  {
   "cell_type": "code",
   "execution_count": 12,
   "id": "5cb6641d",
   "metadata": {},
   "outputs": [],
   "source": [
    "height_diff = heights[tallest_student_idx] - heights[shortest_student_idx]"
   ]
  },
  {
   "cell_type": "code",
   "execution_count": 13,
   "id": "7d809a63",
   "metadata": {},
   "outputs": [
    {
     "name": "stdout",
     "output_type": "stream",
     "text": [
      "Height difference: 25 cm\n"
     ]
    }
   ],
   "source": [
    "print(f\"Height difference: {height_diff} cm\")"
   ]
  },
  {
   "cell_type": "code",
   "execution_count": 14,
   "id": "75ee8911",
   "metadata": {},
   "outputs": [],
   "source": [
    "np.random.seed(42)"
   ]
  },
  {
   "cell_type": "code",
   "execution_count": 15,
   "id": "3cb3caaf",
   "metadata": {},
   "outputs": [],
   "source": [
    "random_selection = np.random.choice(heights, size=5, replace=False)"
   ]
  },
  {
   "cell_type": "code",
   "execution_count": 16,
   "id": "f0391dc2",
   "metadata": {},
   "outputs": [
    {
     "name": "stdout",
     "output_type": "stream",
     "text": [
      "Randomly selected heights: [171 155 158 160 163]\n"
     ]
    }
   ],
   "source": [
    "print(\"Randomly selected heights:\", random_selection)"
   ]
  },
  {
   "cell_type": "code",
   "execution_count": null,
   "id": "73b9f445",
   "metadata": {},
   "outputs": [],
   "source": []
  }
 ],
 "metadata": {
  "kernelspec": {
   "display_name": "Python 3",
   "language": "python",
   "name": "python3"
  },
  "language_info": {
   "codemirror_mode": {
    "name": "ipython",
    "version": 3
   },
   "file_extension": ".py",
   "mimetype": "text/x-python",
   "name": "python",
   "nbconvert_exporter": "python",
   "pygments_lexer": "ipython3",
   "version": "3.8.8"
  }
 },
 "nbformat": 4,
 "nbformat_minor": 5
}
